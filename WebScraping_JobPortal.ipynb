{
 "cells": [
  {
   "cell_type": "markdown",
   "id": "ae3bd707",
   "metadata": {},
   "source": [
    "## installing/Importing packages "
   ]
  },
  {
   "cell_type": "code",
   "execution_count": 1,
   "id": "a83feb52",
   "metadata": {},
   "outputs": [],
   "source": [
    "from selenium import webdriver\n",
    "from bs4 import BeautifulSoup\n",
    "import time\n",
    "import pandas as pd\n",
    "import warnings\n",
    "warnings.filterwarnings(\"ignore\")"
   ]
  },
  {
   "cell_type": "code",
   "execution_count": 2,
   "id": "b059a65a",
   "metadata": {},
   "outputs": [],
   "source": [
    "df=pd.DataFrame(columns=[\"Job_title\",\"Company_Name\",\"Job_description\",\"Salary\",\"location\",\"Rating\",\"Skills\",\"Link\"])"
   ]
  },
  {
   "cell_type": "code",
   "execution_count": 3,
   "id": "0f4e7c27",
   "metadata": {},
   "outputs": [],
   "source": [
    "#URL Download, Please make sure to get valid url . Note: his url is not functional, used for demonstration purpose only \n",
    "url=\"https://www.********.com/data-analyst-jobs?k=data%20analyst&jobAge=7&ctcFilter=6to10&ctcFilter=10to15&ctcFilter=15to25&glbl_qcrc=1018&glbl_qcrc=1019&glbl_qcrc=1020&functionAreaIdGid=3&wfhType=0&wfhType=2&wfhType=3\"\n"
   ]
  },
  {
   "cell_type": "code",
   "execution_count": 4,
   "id": "77201e85",
   "metadata": {},
   "outputs": [],
   "source": [
    "# declaring path for forefox drivers\n",
    "driver = webdriver.Firefox(executable_path=r\"E:\\\\Mystuff\\\\geckodriver-v0.31.0-win64(1)\\\\geckodriver.exe\")  \n",
    "\n",
    "driver.get(url)\n",
    "# time.sleep(3)\n",
    "\n",
    "soup = BeautifulSoup(driver.page_source,\"html.parser\")\n",
    "beauti_soup = soup.prettify()\n",
    "\n",
    "driver.close()"
   ]
  },
  {
   "cell_type": "code",
   "execution_count": 5,
   "id": "be744e34",
   "metadata": {},
   "outputs": [],
   "source": [
    "results = soup.find(class_ = \"list\")\n",
    "\n",
    "job_elements = results.find_all(\"article\",class_=\"jobTuple bgWhite br4 mb-8\")"
   ]
  },
  {
   "cell_type": "code",
   "execution_count": 6,
   "id": "0f822197",
   "metadata": {},
   "outputs": [],
   "source": [
    "for job_element in job_elements:\n",
    "    #Getting url of a job\n",
    "    url = job_element.find(\"a\",class_=\"title fw500 ellipsis\").get(\"href\")\n",
    "    #print(url)\n",
    "\n",
    "    # getting title of a job\n",
    "    title = job_element.find(class_=\"title fw500 ellipsis\")\n",
    "    #print(title.text)\n",
    "\n",
    "    # Company name \n",
    "    comp_name = job_element.find(class_=\"subTitle ellipsis fleft\")\n",
    "    #print(comp_name.text)\n",
    "\n",
    "    #salary offered\n",
    "    sal = job_element.find(\"li\", class_=\"fleft grey-text br2 placeHolderLi salary\")\n",
    "    #print(sal.text) \n",
    "\n",
    "    #location\n",
    "    loc = job_element.find(\"li\", class_=\"fleft grey-text br2 placeHolderLi location\")\n",
    "    #print(loc.text)\n",
    "\n",
    "    # Job Description\n",
    "    jd=job_element.find(class_=\"job-description fs12 grey-text\")\n",
    "    #print(jd.text)\n",
    "\n",
    "    #skills \n",
    "    alls = job_element.find(class_=\"tags has-description\")\n",
    "    #print(alls.text)\n",
    "\n",
    "    #ratings\n",
    "    rating = job_element.find(\"span\",class_=\"starRating fleft dot\")\n",
    "    if rating is None:\n",
    "        continue\n",
    "    else:\n",
    "        new_rating=rating.text\n",
    "    df=df.append({'Job_title':title.text,'Company_Name':comp_name.text,\n",
    "                  'Job_description':jd.text,'Salary':sal.text,'location':loc.text,'Rating':new_rating,\n",
    "                  'Skills':alls.text,'Link':url},ignore_index=True)"
   ]
  },
  {
   "cell_type": "code",
   "execution_count": 7,
   "id": "31adf43f",
   "metadata": {},
   "outputs": [],
   "source": [
    "df.to_csv(r'E:\\\\Mystuff\\\\Jayesh Deshmukh\\\\Portfolio_Projects\\\\Python\\\\Web_scraping\\\\scraped_jobs.csv',index=False, header=True)"
   ]
  },
  {
   "cell_type": "code",
   "execution_count": null,
   "id": "1ce7b6b1",
   "metadata": {},
   "outputs": [],
   "source": []
  }
 ],
 "metadata": {
  "kernelspec": {
   "display_name": "Python 3 (ipykernel)",
   "language": "python",
   "name": "python3"
  },
  "language_info": {
   "codemirror_mode": {
    "name": "ipython",
    "version": 3
   },
   "file_extension": ".py",
   "mimetype": "text/x-python",
   "name": "python",
   "nbconvert_exporter": "python",
   "pygments_lexer": "ipython3",
   "version": "3.10.4"
  }
 },
 "nbformat": 4,
 "nbformat_minor": 5
}
